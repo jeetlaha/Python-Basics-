{
  "nbformat": 4,
  "nbformat_minor": 0,
  "metadata": {
    "colab": {
      "provenance": []
    },
    "kernelspec": {
      "name": "python3",
      "display_name": "Python 3"
    },
    "language_info": {
      "name": "python"
    }
  },
  "cells": [
    {
      "cell_type": "code",
      "execution_count": null,
      "metadata": {
        "id": "GPKURM-LVhvB"
      },
      "outputs": [],
      "source": []
    },
    {
      "cell_type": "markdown",
      "source": [
        "Python Basics Questions\n",
        "\n",
        "1. What is Python, and why is it popular?\n",
        "  - Python is a high level interpreted programming language that is easy to understand and write and known for its simple syntax and readability.\n",
        "  - It is popular because easy to learn and use , versatile ,large standard library and community support which makeing it a popular choice among developers and programmers.\n",
        "\n",
        "2. What is an interpreter in Python ?\n",
        "  - An interpreter reads and executes Pyhon code line by line . It translates Python code into machine code at runtime , which allows quick testing .\n",
        "\n",
        "3. What are pre-defined keywords in Python ?\n",
        "  - Pre-defined keywords are reserved words in Python that have special meanings and cannot used as an identifiers .\n",
        "  - Examples are if,else,while,for,def,class,except ,return etc.\n",
        "\n",
        "4. Can keywords are use as variable names ?\n",
        "  - No, keywords cannot used as variable names because they are reserved for specific functions in Python's syntax .\n",
        "\n",
        "5. What is mutability in Python ?\n",
        "  - Mutability refers to the whether a object can change after its created.\n",
        "  - Mutable object such as lists and dictionaries.\n",
        "\n",
        "6. Why are lists are mutable , but tuples are immutable?\n",
        "  - Lists are designed for flexible data handling , allowing additions , deletions and changes .\n",
        "  - while Tuples are meant for fixed collections , making them faster and safer for data integrity.\n",
        "\n",
        "7. What is the difference between == and is operators in Python?\n",
        "  - == Equality Operator: This operator compares the values of two objects. It checks whether the content or data held by the objects is the same. For example, if two lists contain the same elements in the same order, == would return True, even if they are distinct object in memory.\n",
        "  - is Identity Operator: This operator compares the identity of two objects. It checks whether two variables or references point to the exact same object in memory. In other words, it determines if they are the same instance.\n",
        "\n",
        "8. What are logical operators in Python ?\n",
        "  - Logical operators are used in boolean expresssion .\n",
        "  - Examples are and , or ,not .\n",
        "\n",
        "9. What are typecasting in Python ?\n",
        "  - Type casting also referred to as type conversion , is the process of changing one data type to another data type in Python .\n",
        "  - Python provides built in functions for typecasting , such as int(),float(),str(),list(),etc.\n",
        "\n",
        "10. What is the difference between implicit and explicit type casting?\n",
        "  - Implicit type casting in which Python automatically converst types( e.g int to float).\n",
        "  - Explicit typecasting in which programmer manually converts types using functions like int() , str(), float().\n",
        "\n",
        "11. What is the purpose of conditionals statement in Python?\n",
        "   - Conditionals in Python used to execute code based on evaluation of one or more conditions .\n",
        "   - Examples are if ,elif and else .\n",
        "\n",
        "12. How does the elif statement work?\n",
        "   - elif means else if which checks another conditions if the previous if is false . It allows mutiple conditions in readable way .\n",
        "\n",
        "13. What is the difference between for and while loops?\n",
        "   - for loop are used for iterating over a sequence of elements.\n",
        "   - while loop are used for executing code until a specified conditions becomes False.\n",
        "\n",
        "14. Describe a scenerio where while loop is more suitable than a for loop?\n",
        "   - A while loop is more suitable than a for loop when the number of iterations is not known in advance that is when the loop to continue until the specific condition became false .\n",
        "   - keep asking the user to enter the correct passworde until they get it right.\n"
      ],
      "metadata": {
        "id": "Hg3ka3z3XwdV"
      }
    },
    {
      "cell_type": "code",
      "source": [],
      "metadata": {
        "id": "TjdX1XXep_XJ"
      },
      "execution_count": null,
      "outputs": []
    },
    {
      "cell_type": "markdown",
      "source": [
        "# Practical Questions\n",
        "1. Write a Python program to print \"Hello,World!\""
      ],
      "metadata": {
        "id": "3KfHgR74qTkh"
      }
    },
    {
      "cell_type": "code",
      "source": [
        "print(\"Hello,World!\")"
      ],
      "metadata": {
        "colab": {
          "base_uri": "https://localhost:8080/"
        },
        "id": "nR56PvZyq14u",
        "outputId": "1a2212b1-d966-48f1-b416-e06edb07dce0"
      },
      "execution_count": null,
      "outputs": [
        {
          "output_type": "stream",
          "name": "stdout",
          "text": [
            "Hello,World!\n"
          ]
        }
      ]
    },
    {
      "cell_type": "markdown",
      "source": [
        "2. Write a Python program that displays your name and age?"
      ],
      "metadata": {
        "id": "FtwC6BMzrI2w"
      }
    },
    {
      "cell_type": "code",
      "source": [
        "name = \"Jeet Laha\"\n",
        "age = 22\n",
        "print(name)\n",
        "print(age)"
      ],
      "metadata": {
        "colab": {
          "base_uri": "https://localhost:8080/"
        },
        "id": "kRQUGA-FrZRz",
        "outputId": "ce3e95f1-80b8-45b4-cdfc-493751709f33"
      },
      "execution_count": null,
      "outputs": [
        {
          "output_type": "stream",
          "name": "stdout",
          "text": [
            "Jeet Laha\n",
            "22\n"
          ]
        }
      ]
    },
    {
      "cell_type": "markdown",
      "source": [
        "3. Write code to print all the pre-defined keywords in Python use the keyboard library?"
      ],
      "metadata": {
        "id": "UKIw_7DCsymC"
      }
    },
    {
      "cell_type": "code",
      "source": [
        "import keyword\n",
        "print(\"Python Keywords:\")\n",
        "print(keyword.kwlist)"
      ],
      "metadata": {
        "id": "dl47gFWrtTz2"
      },
      "execution_count": null,
      "outputs": []
    },
    {
      "cell_type": "markdown",
      "source": [
        "4. Write a program that checks if a a given word is a Python keyword?"
      ],
      "metadata": {
        "id": "gcseqx-utw3Y"
      }
    },
    {
      "cell_type": "code",
      "source": [
        "import keyword\n",
        "word = input(\"Enter a word:\")\n",
        "if keyword.iskeyword(word):\n",
        "    print(f\"{word}is a Python keyword.\")\n",
        "else:\n",
        "    print(f\"{word} is not Python keyword.\")"
      ],
      "metadata": {
        "colab": {
          "base_uri": "https://localhost:8080/"
        },
        "id": "AmmIh6aHuAx5",
        "outputId": "73c9cb0b-e935-45f4-a14a-6f47906ebaeb"
      },
      "execution_count": null,
      "outputs": [
        {
          "output_type": "stream",
          "name": "stdout",
          "text": [
            "Enter a word:if\n",
            "ifis a Python keyword.\n"
          ]
        }
      ]
    },
    {
      "cell_type": "markdown",
      "source": [
        "5.  Create a list and tuple in Python, and demonstrate how attempting to change an element works differently for each."
      ],
      "metadata": {
        "id": "hDRM4K5MvLtN"
      }
    },
    {
      "cell_type": "code",
      "source": [
        "my_list = [1,2,3]\n",
        "my_list[0] = 10\n",
        "print(my_list)"
      ],
      "metadata": {
        "colab": {
          "base_uri": "https://localhost:8080/"
        },
        "id": "P7jLwIFMvVfd",
        "outputId": "5a4ba60c-c723-423a-89f3-85b7edd69504"
      },
      "execution_count": null,
      "outputs": [
        {
          "output_type": "stream",
          "name": "stdout",
          "text": [
            "[10, 2, 3]\n"
          ]
        }
      ]
    },
    {
      "cell_type": "code",
      "source": [
        "my_tuple = (1,2,3)\n",
        "my_tuple[0] = 10"
      ],
      "metadata": {
        "id": "qyYPhXvVv5gD",
        "colab": {
          "base_uri": "https://localhost:8080/",
          "height": 158
        },
        "outputId": "22e779ab-509e-4320-9f76-03fa322455bf"
      },
      "execution_count": 7,
      "outputs": [
        {
          "output_type": "error",
          "ename": "TypeError",
          "evalue": "'tuple' object does not support item assignment",
          "traceback": [
            "\u001b[0;31m---------------------------------------------------------------------------\u001b[0m",
            "\u001b[0;31mTypeError\u001b[0m                                 Traceback (most recent call last)",
            "\u001b[0;32m/tmp/ipython-input-7-2374956430.py\u001b[0m in \u001b[0;36m<cell line: 0>\u001b[0;34m()\u001b[0m\n\u001b[1;32m      1\u001b[0m \u001b[0mmy_tuple\u001b[0m \u001b[0;34m=\u001b[0m \u001b[0;34m(\u001b[0m\u001b[0;36m1\u001b[0m\u001b[0;34m,\u001b[0m\u001b[0;36m2\u001b[0m\u001b[0;34m,\u001b[0m\u001b[0;36m3\u001b[0m\u001b[0;34m)\u001b[0m\u001b[0;34m\u001b[0m\u001b[0;34m\u001b[0m\u001b[0m\n\u001b[0;32m----> 2\u001b[0;31m \u001b[0mmy_tuple\u001b[0m\u001b[0;34m[\u001b[0m\u001b[0;36m0\u001b[0m\u001b[0;34m]\u001b[0m \u001b[0;34m=\u001b[0m \u001b[0;36m10\u001b[0m\u001b[0;34m\u001b[0m\u001b[0;34m\u001b[0m\u001b[0m\n\u001b[0m",
            "\u001b[0;31mTypeError\u001b[0m: 'tuple' object does not support item assignment"
          ]
        }
      ]
    },
    {
      "cell_type": "markdown",
      "source": [
        "6.  Write a function to demonstrate the behavior of mutable and immutable arguments."
      ],
      "metadata": {
        "id": "BA2oIAH86HBH"
      }
    },
    {
      "cell_type": "code",
      "source": [
        "python_list = ['data','skills','science']\n",
        "print(python_list)"
      ],
      "metadata": {
        "collapsed": true,
        "id": "w3Bv8awz6Ulv"
      },
      "execution_count": null,
      "outputs": []
    },
    {
      "cell_type": "markdown",
      "source": [],
      "metadata": {
        "id": "vmWFZq29_Qka"
      }
    },
    {
      "cell_type": "code",
      "source": [
        "a = \"Hi\"\n",
        "a += \"!\"\n",
        "print(a)"
      ],
      "metadata": {
        "id": "oGVAObGm-wsV"
      },
      "execution_count": null,
      "outputs": []
    },
    {
      "cell_type": "code",
      "source": [],
      "metadata": {
        "id": "-Kl44WaL--fw"
      },
      "execution_count": null,
      "outputs": []
    },
    {
      "cell_type": "markdown",
      "source": [
        "7. . Write a program that performs basic arithmetic operations on two user-input numbers."
      ],
      "metadata": {
        "id": "HAbp8JVC_Toh"
      }
    },
    {
      "cell_type": "code",
      "source": [
        "a = float(input(\"Enter first number:\"))\n",
        "b = float(input(\"Enter second number:\"))\n",
        "print(\"Sum:\", a+b)\n",
        "print(\"Difference:\", a-b)\n",
        "print(\"Product:\", a*b)\n",
        "print(\"Quotient:\", a%b)"
      ],
      "metadata": {
        "id": "O_iTIf_7_drn"
      },
      "execution_count": null,
      "outputs": []
    },
    {
      "cell_type": "markdown",
      "source": [
        "8. Write a program to demonstrate the use of logical operators.\n"
      ],
      "metadata": {
        "id": "wAqo8bd-A2gB"
      }
    },
    {
      "cell_type": "code",
      "source": [
        "x = int(input(\"Enter x: \"))\n",
        "y = int(input(\"Enter y: \"))\n",
        "\n",
        "print(\"x > 0 and y > 0:\", x > 0 and y > 0)\n",
        "print(\"x > 0 or y > 0:\", x > 0 or y > 0)\n",
        "print(\"not(x>0):\",not(y>0))"
      ],
      "metadata": {
        "id": "XQ9UHBJOBDVG"
      },
      "execution_count": null,
      "outputs": []
    },
    {
      "cell_type": "markdown",
      "source": [
        "9.  Write a Python program to convert user input from string to integer, float, and boolean types."
      ],
      "metadata": {
        "id": "KKnAkMOACbmJ"
      }
    },
    {
      "cell_type": "code",
      "source": [
        "user_input = input(\"Enter a value: \")\n",
        "\n",
        "int_val = int(user_input)\n",
        "float_val = float(user_input)\n",
        "bool_val = bool(int_val)  # bool from int\n",
        "\n",
        "print(\"As Integer:\", int_val)\n",
        "print(\"As Float:\", float_val)\n",
        "print(\"As Boolean:\",bool_val)"
      ],
      "metadata": {
        "id": "z5ZpDJN4DyLX"
      },
      "execution_count": null,
      "outputs": []
    },
    {
      "cell_type": "markdown",
      "source": [
        "10. Write code to demonstrate type casting with list elements."
      ],
      "metadata": {
        "id": "G7hmDjufMj_a"
      }
    },
    {
      "cell_type": "code",
      "source": [
        "str_list = ['1', '2', '3']\n",
        "int_list = [int(x) for x in str_list]\n",
        "\n",
        "print(\"Original list:\", str_list)\n",
        "print(\"After type casting to int:\",int_list)"
      ],
      "metadata": {
        "id": "ro6EglAfMgPL"
      },
      "execution_count": null,
      "outputs": []
    },
    {
      "cell_type": "markdown",
      "source": [
        "11.. Write a program that checks if a number is positive, negative, or zero."
      ],
      "metadata": {
        "id": "-O2VWt7jNLgl"
      }
    },
    {
      "cell_type": "code",
      "source": [
        "num = float(input(\"Enter a number: \"))\n",
        "\n",
        "if num > 0:\n",
        "    print(\"Positive\")\n",
        "elif num < 0:\n",
        "    print(\"Negative\")\n",
        "else:\n",
        "    print(\"Zero\")"
      ],
      "metadata": {
        "id": "of2bjt7HNk_j"
      },
      "execution_count": null,
      "outputs": []
    },
    {
      "cell_type": "markdown",
      "source": [
        "12. Write a for loop to print numbers from 1 to 10."
      ],
      "metadata": {
        "id": "8kEp8MGbOEQn"
      }
    },
    {
      "cell_type": "code",
      "source": [
        "for i in range(1, 11):\n",
        "    print(i)"
      ],
      "metadata": {
        "id": "olBYZAxnOVuE"
      },
      "execution_count": null,
      "outputs": []
    },
    {
      "cell_type": "markdown",
      "source": [
        "13.. Write a Python program to find the sum of all even numbers between 1 and 50"
      ],
      "metadata": {
        "id": "t0uVzeckOoZr"
      }
    },
    {
      "cell_type": "code",
      "source": [
        "total = 0\n",
        "for i in range(2, 51, 2):\n",
        "    total += i\n",
        "print(\"Sum of even numbers from 1 to 50:\",total)"
      ],
      "metadata": {
        "id": "kd-re2j7O01W"
      },
      "execution_count": null,
      "outputs": []
    },
    {
      "cell_type": "markdown",
      "source": [
        "14. Write a program to reverse a string using a while loop."
      ],
      "metadata": {
        "id": "5byQyxKGPN8K"
      }
    },
    {
      "cell_type": "code",
      "source": [
        "\n",
        "text = input(\"Enter a string: \")\n",
        "\n",
        "\n",
        "reversed_text = \"\"\n",
        "index = len(text) - 1\n",
        "\n",
        "\n",
        "while index >= 0:\n",
        "    reversed_text += text[index]\n",
        "    index -= 1\n",
        "print(\"Reversed string:\",reversed_text)"
      ],
      "metadata": {
        "id": "6xHhcfJQPSJD"
      },
      "execution_count": null,
      "outputs": []
    },
    {
      "cell_type": "markdown",
      "source": [
        "15.rite a Python program to calculate the factorial of a number provided by the user using a while loop."
      ],
      "metadata": {
        "id": "2MpYku4zQ2q4"
      }
    },
    {
      "cell_type": "code",
      "source": [
        "num = int(input(\"Enter a number: \"))\n",
        "fact = 1\n",
        "i = 1\n",
        "\n",
        "while i <= num:\n",
        "    fact *= i\n",
        "    i += 1\n",
        "\n",
        "print(f\"Factorial of {num} is{fact}\")"
      ],
      "metadata": {
        "id": "v1o_zfHaQ9dH"
      },
      "execution_count": null,
      "outputs": []
    },
    {
      "cell_type": "markdown",
      "source": [],
      "metadata": {
        "id": "_7rAbovNMgwo"
      }
    }
  ]
}